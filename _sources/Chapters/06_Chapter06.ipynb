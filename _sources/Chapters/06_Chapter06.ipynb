{
  "nbformat": 4,
  "nbformat_minor": 0,
  "metadata": {
    "colab": {
      "name": "06_Chapter06",
      "provenance": [],
      "collapsed_sections": [],
      "authorship_tag": "ABX9TyM+Q+GLbdCCBlrRIuZIjjeN",
      "include_colab_link": true
    },
    "kernelspec": {
      "name": "python3",
      "display_name": "Python 3"
    }
  },
  "cells": [
    {
      "cell_type": "markdown",
      "metadata": {
        "id": "view-in-github",
        "colab_type": "text"
      },
      "source": [
        "<a href=\"https://colab.research.google.com/github/saketkc/pyro-rethinking/blob/master/Chapters/06_Chapter06.ipynb\" target=\"_parent\"><img src=\"https://colab.research.google.com/assets/colab-badge.svg\" alt=\"Open In Colab\"/></a>"
      ]
    },
    {
      "cell_type": "markdown",
      "metadata": {
        "id": "oVK73xI2tt4O",
        "colab_type": "text"
      },
      "source": [
        "# Chapter 06 - Overfitting, Regularization, and Information Criteria\n"
      ]
    },
    {
      "cell_type": "code",
      "metadata": {
        "id": "Q9BjIysStzSd",
        "colab_type": "code",
        "colab": {
          "base_uri": "https://localhost:8080/",
          "height": 745
        },
        "outputId": "a39f4495-9b0e-45b5-d1fe-a5137a01d742"
      },
      "source": [
        "!pip install torch torchvision pyro-ppl proplot black blackcellmagic statsmodels patsy"
      ],
      "execution_count": null,
      "outputs": [
        {
          "output_type": "stream",
          "text": [
            "Requirement already satisfied: torch in /usr/local/lib/python3.6/dist-packages (1.5.1+cu101)\n",
            "Requirement already satisfied: torchvision in /usr/local/lib/python3.6/dist-packages (0.6.1+cu101)\n",
            "Requirement already satisfied: pyro-ppl in /usr/local/lib/python3.6/dist-packages (1.3.1)\n",
            "Requirement already satisfied: proplot in /usr/local/lib/python3.6/dist-packages (0.6.4)\n",
            "Requirement already satisfied: black in /usr/local/lib/python3.6/dist-packages (19.10b0)\n",
            "Requirement already satisfied: blackcellmagic in /usr/local/lib/python3.6/dist-packages (0.0.2)\n",
            "Requirement already satisfied: statsmodels in /usr/local/lib/python3.6/dist-packages (0.10.2)\n",
            "Requirement already satisfied: patsy in /usr/local/lib/python3.6/dist-packages (0.5.1)\n",
            "Requirement already satisfied: numpy in /usr/local/lib/python3.6/dist-packages (from torch) (1.18.5)\n",
            "Requirement already satisfied: future in /usr/local/lib/python3.6/dist-packages (from torch) (0.16.0)\n",
            "Requirement already satisfied: pillow>=4.1.1 in /usr/local/lib/python3.6/dist-packages (from torchvision) (7.0.0)\n",
            "Requirement already satisfied: pyro-api>=0.1.1 in /usr/local/lib/python3.6/dist-packages (from pyro-ppl) (0.1.2)\n",
            "Requirement already satisfied: opt-einsum>=2.3.2 in /usr/local/lib/python3.6/dist-packages (from pyro-ppl) (3.2.1)\n",
            "Requirement already satisfied: tqdm>=4.36 in /usr/local/lib/python3.6/dist-packages (from pyro-ppl) (4.41.1)\n",
            "Requirement already satisfied: matplotlib in /usr/local/lib/python3.6/dist-packages (from proplot) (3.2.2)\n",
            "Requirement already satisfied: toml>=0.9.4 in /usr/local/lib/python3.6/dist-packages (from black) (0.10.1)\n",
            "Requirement already satisfied: attrs>=18.1.0 in /usr/local/lib/python3.6/dist-packages (from black) (19.3.0)\n",
            "Requirement already satisfied: appdirs in /usr/local/lib/python3.6/dist-packages (from black) (1.4.4)\n",
            "Requirement already satisfied: typed-ast>=1.4.0 in /usr/local/lib/python3.6/dist-packages (from black) (1.4.1)\n",
            "Requirement already satisfied: regex in /usr/local/lib/python3.6/dist-packages (from black) (2019.12.20)\n",
            "Requirement already satisfied: pathspec<1,>=0.6 in /usr/local/lib/python3.6/dist-packages (from black) (0.8.0)\n",
            "Requirement already satisfied: click>=6.5 in /usr/local/lib/python3.6/dist-packages (from black) (7.1.2)\n",
            "Requirement already satisfied: ipython in /usr/local/lib/python3.6/dist-packages (from blackcellmagic) (5.5.0)\n",
            "Requirement already satisfied: pandas>=0.19 in /usr/local/lib/python3.6/dist-packages (from statsmodels) (1.0.5)\n",
            "Requirement already satisfied: scipy>=0.18 in /usr/local/lib/python3.6/dist-packages (from statsmodels) (1.4.1)\n",
            "Requirement already satisfied: six in /usr/local/lib/python3.6/dist-packages (from patsy) (1.12.0)\n",
            "Requirement already satisfied: python-dateutil>=2.1 in /usr/local/lib/python3.6/dist-packages (from matplotlib->proplot) (2.8.1)\n",
            "Requirement already satisfied: cycler>=0.10 in /usr/local/lib/python3.6/dist-packages (from matplotlib->proplot) (0.10.0)\n",
            "Requirement already satisfied: kiwisolver>=1.0.1 in /usr/local/lib/python3.6/dist-packages (from matplotlib->proplot) (1.2.0)\n",
            "Requirement already satisfied: pyparsing!=2.0.4,!=2.1.2,!=2.1.6,>=2.0.1 in /usr/local/lib/python3.6/dist-packages (from matplotlib->proplot) (2.4.7)\n",
            "Requirement already satisfied: pygments in /usr/local/lib/python3.6/dist-packages (from ipython->blackcellmagic) (2.1.3)\n",
            "Requirement already satisfied: prompt-toolkit<2.0.0,>=1.0.4 in /usr/local/lib/python3.6/dist-packages (from ipython->blackcellmagic) (1.0.18)\n",
            "Requirement already satisfied: pickleshare in /usr/local/lib/python3.6/dist-packages (from ipython->blackcellmagic) (0.7.5)\n",
            "Requirement already satisfied: simplegeneric>0.8 in /usr/local/lib/python3.6/dist-packages (from ipython->blackcellmagic) (0.8.1)\n",
            "Requirement already satisfied: pexpect; sys_platform != \"win32\" in /usr/local/lib/python3.6/dist-packages (from ipython->blackcellmagic) (4.8.0)\n",
            "Requirement already satisfied: setuptools>=18.5 in /usr/local/lib/python3.6/dist-packages (from ipython->blackcellmagic) (47.3.1)\n",
            "Requirement already satisfied: traitlets>=4.2 in /usr/local/lib/python3.6/dist-packages (from ipython->blackcellmagic) (4.3.3)\n",
            "Requirement already satisfied: decorator in /usr/local/lib/python3.6/dist-packages (from ipython->blackcellmagic) (4.4.2)\n",
            "Requirement already satisfied: pytz>=2017.2 in /usr/local/lib/python3.6/dist-packages (from pandas>=0.19->statsmodels) (2018.9)\n",
            "Requirement already satisfied: wcwidth in /usr/local/lib/python3.6/dist-packages (from prompt-toolkit<2.0.0,>=1.0.4->ipython->blackcellmagic) (0.2.5)\n",
            "Requirement already satisfied: ptyprocess>=0.5 in /usr/local/lib/python3.6/dist-packages (from pexpect; sys_platform != \"win32\"->ipython->blackcellmagic) (0.6.0)\n",
            "Requirement already satisfied: ipython-genutils in /usr/local/lib/python3.6/dist-packages (from traitlets>=4.2->ipython->blackcellmagic) (0.2.0)\n"
          ],
          "name": "stdout"
        }
      ]
    },
    {
      "cell_type": "code",
      "metadata": {
        "id": "V1JfvrWst7ho",
        "colab_type": "code",
        "colab": {
          "base_uri": "https://localhost:8080/",
          "height": 86
        },
        "outputId": "5341ca9f-2878-43e7-9556-4a662c9b8e7a"
      },
      "source": [
        "%load_ext blackcellmagic\n",
        "import warnings\n",
        "\n",
        "import pandas as pd\n",
        "import proplot as plot\n",
        "import pyro\n",
        "import pyro.distributions as dist\n",
        "import pyro.infer\n",
        "import pyro.ops.stats as stats\n",
        "import pyro.optim\n",
        "import seaborn as sns\n",
        "import torch\n",
        "import torch.distributions.constraints as constraints\n",
        "import torch.tensor as tensor\n",
        "from pyro.contrib.autoguide import AutoLaplaceApproximation\n",
        "\n",
        "warnings.filterwarnings(\"ignore\")\n",
        "%pylab inline\n",
        "pyro.set_rng_seed(42)\n",
        "\n",
        "plt.rcParams[\"axes.labelweight\"] = \"bold\"\n",
        "plt.rcParams[\"font.weight\"] = \"bold\""
      ],
      "execution_count": null,
      "outputs": [
        {
          "output_type": "stream",
          "text": [
            "/usr/local/lib/python3.6/dist-packages/proplot/config.py:1454: ProPlotWarning: Rebuilding font cache.\n"
          ],
          "name": "stderr"
        },
        {
          "output_type": "stream",
          "text": [
            "Populating the interactive namespace from numpy and matplotlib\n"
          ],
          "name": "stdout"
        },
        {
          "output_type": "stream",
          "text": [
            "/usr/local/lib/python3.6/dist-packages/statsmodels/tools/_testing.py:19: FutureWarning: pandas.util.testing is deprecated. Use the functions in the public API at pandas.testing instead.\n",
            "  import pandas.util.testing as tm\n"
          ],
          "name": "stderr"
        }
      ]
    },
    {
      "cell_type": "markdown",
      "metadata": {
        "id": "-gAqyTZvt99U",
        "colab_type": "text"
      },
      "source": [
        "# Code 6.1"
      ]
    },
    {
      "cell_type": "code",
      "metadata": {
        "id": "zqnv7nhryAb1",
        "colab_type": "code",
        "colab": {
          "base_uri": "https://localhost:8080/",
          "height": 918
        },
        "outputId": "d93c99f4-883b-4d24-e733-6b731216d884"
      },
      "source": [
        "import pandas as pd\n",
        "import torch\n",
        "import torch.tensor as tensor\n",
        "import pyro\n",
        "import pyro.distributions as dist\n",
        "from pyro.infer import SVI, Trace_ELBO\n",
        "from pyro.infer.autoguide import AutoDiagonalNormal\n",
        "\n",
        "sppnames = [\"afarensis\", \"africanus\", \"habilis\", \"boisei\", \"rudolfensis\", \"ergaster\", \"sapiens\"]\n",
        "brainvolcc = [438., 452., 612., 521., 752., 871., 1350.]\n",
        "masskg = [37.0, 35.5, 34.5, 41.5, 55.5, 61.0, 53.5]\n",
        "d = pd.DataFrame({\"species\": sppnames, \"brain\":brainvolcc, \"mass\": masskg})\n",
        "brain = tensor(d['brain'], dtype=torch.float)\n",
        "mass = tensor(d['mass'], dtype=torch.float)\n",
        "\n",
        "\n",
        "def modelLM(x, y):\n",
        "  sigma = 1.\n",
        "  weight = pyro.sample(\"weight\", dist.Normal(0., 100.))\n",
        "  y_pred = weight * x\n",
        "  bias = pyro.sample(\"bias\", dist.Normal(x.mean(), 100.))\n",
        "  y_pred = y_pred + bias\n",
        "  y = pyro.sample(\"y\", dist.Normal(y_pred, sigma), obs=y)\n",
        "  return y\n",
        "\n",
        "adam = pyro.optim.Adam({\"lr\": 0.03})\n",
        "guide = AutoDiagonalNormal(modelLM)\n",
        "\n",
        "svi = SVI(modelLM, guide, adam, loss=Trace_ELBO())\n",
        "num_iterations = 5000\n",
        "pyro.clear_param_store()\n",
        "losses = []\n",
        "for j in range(num_iterations):\n",
        "    # calculate the loss and take a gradient step\n",
        "    loss = svi.step(mass, brain)\n",
        "    if j % 100 == 0:\n",
        "        print(\"[iteration %04d] loss: %.4f\" % (j + 1, loss / len(brain)))\n",
        "    losses.append(loss)\n",
        "guide.requires_grad_(False)\n",
        "\n",
        "guide.quantiles([0.25, 0.5, 0.75])"
      ],
      "execution_count": null,
      "outputs": [
        {
          "output_type": "stream",
          "text": [
            "[iteration 0001] loss: 922617.0140\n",
            "[iteration 0101] loss: 736301.3414\n",
            "[iteration 0201] loss: 597407.8432\n",
            "[iteration 0301] loss: 467509.3486\n",
            "[iteration 0401] loss: 365105.8928\n",
            "[iteration 0501] loss: 286934.9869\n",
            "[iteration 0601] loss: 217594.9398\n",
            "[iteration 0701] loss: 165312.7858\n",
            "[iteration 0801] loss: 121732.0647\n",
            "[iteration 0901] loss: 94113.1033\n",
            "[iteration 1001] loss: 71102.8468\n",
            "[iteration 1101] loss: 55977.4891\n",
            "[iteration 1201] loss: 43756.8428\n",
            "[iteration 1301] loss: 36727.4556\n",
            "[iteration 1401] loss: 30650.4078\n",
            "[iteration 1501] loss: 28724.8164\n",
            "[iteration 1601] loss: 26610.1936\n",
            "[iteration 1701] loss: 25622.7252\n",
            "[iteration 1801] loss: 24928.6907\n",
            "[iteration 1901] loss: 24721.7366\n",
            "[iteration 2001] loss: 24464.8411\n",
            "[iteration 2101] loss: 24283.6640\n",
            "[iteration 2201] loss: 24243.5505\n",
            "[iteration 2301] loss: 24215.0529\n",
            "[iteration 2401] loss: 24222.8154\n",
            "[iteration 2501] loss: 24209.6450\n",
            "[iteration 2601] loss: 24212.2392\n",
            "[iteration 2701] loss: 24212.2720\n",
            "[iteration 2801] loss: 24206.0991\n",
            "[iteration 2901] loss: 24204.4869\n",
            "[iteration 3001] loss: 24204.8578\n",
            "[iteration 3101] loss: 24203.9615\n",
            "[iteration 3201] loss: 24199.1800\n",
            "[iteration 3301] loss: 24199.4095\n",
            "[iteration 3401] loss: 24195.1827\n",
            "[iteration 3501] loss: 24197.1072\n",
            "[iteration 3601] loss: 24198.8789\n",
            "[iteration 3701] loss: 24191.1596\n",
            "[iteration 3801] loss: 24186.4128\n",
            "[iteration 3901] loss: 24179.6238\n",
            "[iteration 4001] loss: 24193.7353\n",
            "[iteration 4101] loss: 24177.3508\n",
            "[iteration 4201] loss: 24170.1165\n",
            "[iteration 4301] loss: 24168.5186\n",
            "[iteration 4401] loss: 24163.6002\n",
            "[iteration 4501] loss: 24161.5777\n",
            "[iteration 4601] loss: 24155.3574\n",
            "[iteration 4701] loss: 24149.1734\n",
            "[iteration 4801] loss: 24143.9461\n",
            "[iteration 4901] loss: 24143.7691\n"
          ],
          "name": "stdout"
        },
        {
          "output_type": "execute_result",
          "data": {
            "text/plain": [
              "{'bias': [tensor(20.3188), tensor(20.4905), tensor(20.6623)],\n",
              " 'weight': [tensor(15.4664), tensor(15.4902), tensor(15.5140)]}"
            ]
          },
          "metadata": {
            "tags": []
          },
          "execution_count": 11
        }
      ]
    },
    {
      "cell_type": "code",
      "metadata": {
        "id": "u3qgEFIozQ3o",
        "colab_type": "code",
        "colab": {
          "base_uri": "https://localhost:8080/",
          "height": 104
        },
        "outputId": "beda9ff0-e6a0-4a9e-dc2f-89a6d87e967b"
      },
      "source": [
        "guide.requires_grad_(False)\n",
        "\n",
        "for name, value in pyro.get_param_store().items():\n",
        "    print(name, pyro.param(name))\n",
        "guide.quantiles([0.25, 0.5, 0.75])"
      ],
      "execution_count": null,
      "outputs": [
        {
          "output_type": "stream",
          "text": [
            "AutoDiagonalNormal.loc Parameter containing:\n",
            "tensor([ 16.7326, -38.7955])\n",
            "AutoDiagonalNormal.scale tensor([0.0113, 0.1760])\n"
          ],
          "name": "stdout"
        },
        {
          "output_type": "execute_result",
          "data": {
            "text/plain": [
              "{'bias': [tensor(-38.9142), tensor(-38.7955), tensor(-38.6767)],\n",
              " 'weight': [tensor(16.7250), tensor(16.7326), tensor(16.7403)]}"
            ]
          },
          "metadata": {
            "tags": []
          },
          "execution_count": 9
        }
      ]
    },
    {
      "cell_type": "code",
      "metadata": {
        "id": "GQ7aqFzrt9Ym",
        "colab_type": "code",
        "colab": {
          "base_uri": "https://localhost:8080/",
          "height": 514
        },
        "outputId": "5ff20bc7-c0f1-49b8-ba03-b20c027b59b6"
      },
      "source": [
        "def modelLM(x, data):\n",
        "  #sigma = pyro.sample(\"sigma\", dist.HalfCauchy(2.))\n",
        "  \n",
        "  sigma = pyro.sample(\"sigma\", dist.Uniform(0., 10.))\n",
        "  weight = pyro.sample(\"weight\", dist.Normal(0., 1.))\n",
        "  wx = weight *x \n",
        "  #if intercept:\n",
        "  bias = pyro.sample(\"bias\", dist.Normal(0, 10.))\n",
        "  wx += bias\n",
        "  y = pyro.sample(\"y\", dist.Normal(wx, sigma), obs=data)\n",
        "  return y\n",
        "\n",
        "def guideLM(x, data):\n",
        "  mean_weight_param = pyro.param(\"mean_weight_param\", tensor(1.))\n",
        "  scale_weight_param = pyro.param(\"scale_weight_param\", tensor(1.))\n",
        "  mean_bias_param = pyro.param(\"mean_bias_param\", x.mean())\n",
        "  scale_bias_param = pyro.param(\"scale_bias_param\", tensor(20.))\n",
        "  pyro.sample(\"weight\", dist.Normal(mean_weight_param, scale_weight_param))\n",
        "  pyro.sample(\"bias\", dist.Normal(mean_bias_param, scale_bias_param))\n",
        "  #pass\n",
        "  \"\"\"\n",
        "  weight_param = pyro.param(\"weight_param\", tensor(1.)\n",
        "    )\n",
        "  bias_param = pyro.param(\"bias_param\", tensor(x.mean())\n",
        "    )\n",
        "  sigma_param = pyro.param(\n",
        "              \"sigma_param\", tensor(1.), constraint=constraints.positive\n",
        "    )\n",
        "  return pyro.sample(\"weight\", dist.Delta(weight_param)), pyro.sample(\"bias\", dist.Delta(bias_param)), pyro.sample(\"sigma\", dist.Delta(sigma_param))\n",
        "  \"\"\"\n",
        "\n",
        "\n",
        "brain = tensor(d['brain'], dtype=torch.float)\n",
        "mass = tensor(d['mass'], dtype=torch.float)\n",
        "\n",
        "pyro.clear_param_store()\n",
        "conditionedLM = pyro.condition(modelLM, data={\"y\": brain})\n",
        "svi = pyro.infer.SVI(model=conditionedLM,\n",
        "                     guide=guideLM,\n",
        "                     optim=pyro.optim.Adam({\"lr\": 0.001}),\n",
        "                     loss=pyro.infer.Trace_ELBO())\n",
        "\n",
        "num_steps = 10000\n",
        "losses = [svi.step(mass, brain) for t in range(num_steps)]\n",
        "plt.plot(losses)"
      ],
      "execution_count": null,
      "outputs": [
        {
          "output_type": "execute_result",
          "data": {
            "text/plain": [
              "[<matplotlib.lines.Line2D at 0x7f57d8b128d0>]"
            ]
          },
          "metadata": {
            "tags": []
          },
          "execution_count": 6
        },
        {
          "output_type": "display_data",
          "data": {
            "image/png": "[encoded data removed]",
            "text/plain": [
              "<Figure size 640x480 with 1 Axes>"
            ]
          },
          "metadata": {
            "tags": [],
            "image/png": {
              "width": 640,
              "height": 480
            }
          }
        }
      ]
    },
    {
      "cell_type": "code",
      "metadata": {
        "id": "zaIHzqnheo5t",
        "colab_type": "code",
        "colab": {
          "base_uri": "https://localhost:8080/",
          "height": 1000
        },
        "outputId": "6237d517-310b-4362-e551-6580e7414568"
      },
      "source": [
        "from pyro.infer import SVI, Trace_ELBO\n",
        "from pyro.infer.autoguide import AutoDiagonalNormal\n",
        "\n",
        "def modelLM(x, data):\n",
        "  sigma = 1.\n",
        "  bias = pyro.sample(\"bias\", dist.Normal(x.mean(), 100.))\n",
        "  weight = pyro.sample(\"weight\", dist.Normal(0., 1.))\n",
        "  wx = bias + weight * x#(x-x.mean()) \n",
        "  y = pyro.sample(\"y\", dist.Normal(wx, sigma), obs=data)\n",
        "  return wx\n",
        "\n",
        "brain = tensor(d['brain'], dtype=torch.float)\n",
        "mass = tensor(d['mass'], dtype=torch.float)\n",
        "\n",
        "adam = pyro.optim.Adam({\"lr\": 0.1})\n",
        "guide = AutoDiagonalNormal(modelLM)\n",
        "\n",
        "svi = SVI(modelLM, guide, adam, loss=Trace_ELBO())\n",
        "num_iterations = 5000\n",
        "pyro.clear_param_store()\n",
        "losses = []\n",
        "for j in range(num_iterations):\n",
        "    # calculate the loss and take a gradient step\n",
        "    loss = svi.step(mass, brain)\n",
        "    if j % 100 == 0:\n",
        "        print(\"[iteration %04d] loss: %.4f\" % (j + 1, loss / len(brain)))\n",
        "    losses.append(loss)\n",
        "plt.plot(losses)"
      ],
      "execution_count": null,
      "outputs": [
        {
          "output_type": "stream",
          "text": [
            "[iteration 0001] loss: 233790.9992\n",
            "[iteration 0101] loss: 54766.2408\n",
            "[iteration 0201] loss: 26296.1646\n",
            "[iteration 0301] loss: 25091.1893\n",
            "[iteration 0401] loss: 25069.8338\n",
            "[iteration 0501] loss: 25055.3571\n",
            "[iteration 0601] loss: 25058.1818\n",
            "[iteration 0701] loss: 25030.7960\n",
            "[iteration 0801] loss: 25014.5342\n",
            "[iteration 0901] loss: 24997.5771\n",
            "[iteration 1001] loss: 24976.4261\n",
            "[iteration 1101] loss: 24961.4700\n",
            "[iteration 1201] loss: 24941.4946\n",
            "[iteration 1301] loss: 24916.0623\n",
            "[iteration 1401] loss: 24893.0335\n",
            "[iteration 1501] loss: 24871.4338\n",
            "[iteration 1601] loss: 24843.1331\n",
            "[iteration 1701] loss: 24811.1419\n",
            "[iteration 1801] loss: 24787.4239\n",
            "[iteration 1901] loss: 24762.4270\n",
            "[iteration 2001] loss: 24720.0782\n",
            "[iteration 2101] loss: 24699.4856\n",
            "[iteration 2201] loss: 24658.9981\n",
            "[iteration 2301] loss: 24617.8488\n",
            "[iteration 2401] loss: 24586.5736\n",
            "[iteration 2501] loss: 24553.2592\n",
            "[iteration 2601] loss: 24517.7130\n",
            "[iteration 2701] loss: 24481.6459\n",
            "[iteration 2801] loss: 24434.6413\n",
            "[iteration 2901] loss: 24400.3492\n",
            "[iteration 3001] loss: 24358.7223\n",
            "[iteration 3101] loss: 24309.3678\n",
            "[iteration 3201] loss: 24268.8241\n",
            "[iteration 3301] loss: 24223.0639\n",
            "[iteration 3401] loss: 24178.8132\n",
            "[iteration 3501] loss: 24134.1093\n",
            "[iteration 3601] loss: 24089.2851\n",
            "[iteration 3701] loss: 24037.2571\n",
            "[iteration 3801] loss: 23995.5859\n",
            "[iteration 3901] loss: 23949.2654\n",
            "[iteration 4001] loss: 23898.2613\n",
            "[iteration 4101] loss: 23854.2809\n",
            "[iteration 4201] loss: 23799.4264\n",
            "[iteration 4301] loss: 23751.3402\n",
            "[iteration 4401] loss: 23708.6682\n",
            "[iteration 4501] loss: 23662.6529\n",
            "[iteration 4601] loss: 23615.6218\n",
            "[iteration 4701] loss: 23572.5174\n",
            "[iteration 4801] loss: 23528.9294\n",
            "[iteration 4901] loss: 23489.1542\n"
          ],
          "name": "stdout"
        },
        {
          "output_type": "execute_result",
          "data": {
            "text/plain": [
              "[<matplotlib.lines.Line2D at 0x7f57d4c4e208>]"
            ]
          },
          "metadata": {
            "tags": []
          },
          "execution_count": 59
        },
        {
          "output_type": "display_data",
          "data": {
            "image/png": "[encoded data removed]",
            "text/plain": [
              "<Figure size 640x480 with 1 Axes>"
            ]
          },
          "metadata": {
            "tags": [],
            "image/png": {
              "width": 640,
              "height": 480
            }
          }
        }
      ]
    },
    {
      "cell_type": "code",
      "metadata": {
        "id": "gLislxntvw9R",
        "colab_type": "code",
        "colab": {
          "base_uri": "https://localhost:8080/",
          "height": 34
        },
        "outputId": "51b0135b-5109-4937-866c-da263c82e5e0"
      },
      "source": [
        "mass.mean()"
      ],
      "execution_count": null,
      "outputs": [
        {
          "output_type": "execute_result",
          "data": {
            "text/plain": [
              "tensor(45.5000)"
            ]
          },
          "metadata": {
            "tags": []
          },
          "execution_count": 55
        }
      ]
    },
    {
      "cell_type": "code",
      "metadata": {
        "id": "5-WieJEnezHw",
        "colab_type": "code",
        "colab": {
          "base_uri": "https://localhost:8080/",
          "height": 104
        },
        "outputId": "d6ee51d2-7c70-4215-8e9c-aed09dcfc73b"
      },
      "source": [
        "guide.requires_grad_(False)\n",
        "\n",
        "for name, value in pyro.get_param_store().items():\n",
        "    print(name, pyro.param(name))\n",
        "guide.quantiles([0.25, 0.5, 0.75])"
      ],
      "execution_count": null,
      "outputs": [
        {
          "output_type": "stream",
          "text": [
            "AutoDiagonalNormal.loc Parameter containing:\n",
            "tensor([-51.5508,  16.9979])\n",
            "AutoDiagonalNormal.scale tensor([0.3538, 0.0114])\n"
          ],
          "name": "stdout"
        },
        {
          "output_type": "execute_result",
          "data": {
            "text/plain": [
              "{'bias': [tensor(-51.7895), tensor(-51.5508), tensor(-51.3122)],\n",
              " 'weight': [tensor(16.9902), tensor(16.9979), tensor(17.0056)]}"
            ]
          },
          "metadata": {
            "tags": []
          },
          "execution_count": 60
        }
      ]
    },
    {
      "cell_type": "code",
      "metadata": {
        "id": "XDGrTCv1sjHT",
        "colab_type": "code",
        "colab": {
          "base_uri": "https://localhost:8080/",
          "height": 1000
        },
        "outputId": "88e2d7ac-052a-4409-942d-da927d19ce2a"
      },
      "source": [
        ""
      ],
      "execution_count": null,
      "outputs": [
        {
          "output_type": "stream",
          "text": [
            "[iteration 0001] loss: 254845.0785\n",
            "[iteration 0101] loss: 247055.9115\n",
            "[iteration 0201] loss: 240495.2820\n",
            "[iteration 0301] loss: 235000.9384\n",
            "[iteration 0401] loss: 230403.4633\n",
            "[iteration 0501] loss: 226542.6376\n",
            "[iteration 0601] loss: 223270.2866\n",
            "[iteration 0701] loss: 220453.5194\n",
            "[iteration 0801] loss: 217977.3062\n",
            "[iteration 0901] loss: 215746.3029\n",
            "[iteration 1001] loss: 213685.2439\n",
            "[iteration 1101] loss: 211737.7946\n",
            "[iteration 1201] loss: 209864.1515\n",
            "[iteration 1301] loss: 208037.8542\n",
            "[iteration 1401] loss: 206242.3825\n",
            "[iteration 1501] loss: 204468.0775\n",
            "[iteration 1601] loss: 202709.5810\n",
            "[iteration 1701] loss: 200964.0997\n",
            "[iteration 1801] loss: 199230.2607\n",
            "[iteration 1901] loss: 197507.3608\n",
            "[iteration 2001] loss: 195795.0999\n",
            "[iteration 2101] loss: 194093.2430\n",
            "[iteration 2201] loss: 192401.6750\n",
            "[iteration 2301] loss: 190720.2237\n",
            "[iteration 2401] loss: 189048.8570\n",
            "[iteration 2501] loss: 187387.4702\n",
            "[iteration 2601] loss: 185735.9752\n",
            "[iteration 2701] loss: 184094.2119\n",
            "[iteration 2801] loss: 182462.1982\n",
            "[iteration 2901] loss: 180839.8453\n",
            "[iteration 3001] loss: 179226.9926\n",
            "[iteration 3101] loss: 177623.6936\n",
            "[iteration 3201] loss: 176029.8232\n",
            "[iteration 3301] loss: 174445.2387\n",
            "[iteration 3401] loss: 172870.0829\n",
            "[iteration 3501] loss: 171304.1771\n",
            "[iteration 3601] loss: 169747.4322\n",
            "[iteration 3701] loss: 168199.8482\n",
            "[iteration 3801] loss: 166661.3356\n",
            "[iteration 3901] loss: 165131.8947\n",
            "[iteration 4001] loss: 163611.5074\n",
            "[iteration 4101] loss: 162100.1023\n",
            "[iteration 4201] loss: 160597.6617\n",
            "[iteration 4301] loss: 159104.1318\n",
            "[iteration 4401] loss: 157619.4950\n",
            "[iteration 4501] loss: 156143.7154\n",
            "[iteration 4601] loss: 154676.7395\n",
            "[iteration 4701] loss: 153218.5851\n",
            "[iteration 4801] loss: 151769.1630\n",
            "[iteration 4901] loss: 150328.4553\n",
            "[iteration 5001] loss: 148896.4441\n",
            "[iteration 5101] loss: 147473.2456\n",
            "[iteration 5201] loss: 146058.7257\n",
            "[iteration 5301] loss: 144652.8220\n",
            "[iteration 5401] loss: 143255.5434\n",
            "[iteration 5501] loss: 141866.8274\n",
            "[iteration 5601] loss: 140486.8973\n",
            "[iteration 5701] loss: 139115.5119\n",
            "[iteration 5801] loss: 137752.6445\n",
            "[iteration 5901] loss: 136398.2861\n",
            "[iteration 6001] loss: 135052.6778\n",
            "[iteration 6101] loss: 133715.5518\n",
            "[iteration 6201] loss: 132386.8902\n",
            "[iteration 6301] loss: 131066.7197\n",
            "[iteration 6401] loss: 129755.2280\n",
            "[iteration 6501] loss: 128452.1560\n",
            "[iteration 6601] loss: 127157.5484\n",
            "[iteration 6701] loss: 125871.4141\n",
            "[iteration 6801] loss: 124593.5389\n",
            "[iteration 6901] loss: 123324.7173\n",
            "[iteration 7001] loss: 122063.8512\n",
            "[iteration 7101] loss: 120811.6191\n",
            "[iteration 7201] loss: 119567.9943\n",
            "[iteration 7301] loss: 118332.3071\n",
            "[iteration 7401] loss: 117105.6915\n",
            "[iteration 7501] loss: 115887.1742\n",
            "[iteration 7601] loss: 114676.8980\n",
            "[iteration 7701] loss: 113475.5238\n",
            "[iteration 7801] loss: 112282.0335\n",
            "[iteration 7901] loss: 111097.3291\n",
            "[iteration 8001] loss: 109920.9106\n",
            "[iteration 8101] loss: 108752.6082\n",
            "[iteration 8201] loss: 107593.2166\n",
            "[iteration 8301] loss: 106441.6912\n",
            "[iteration 8401] loss: 105298.9159\n",
            "[iteration 8501] loss: 104164.3550\n",
            "[iteration 8601] loss: 103038.0264\n",
            "[iteration 8701] loss: 101920.3675\n",
            "[iteration 8801] loss: 100810.5391\n",
            "[iteration 8901] loss: 99709.7197\n",
            "[iteration 9001] loss: 98616.7307\n",
            "[iteration 9101] loss: 97532.3848\n",
            "[iteration 9201] loss: 96456.1996\n",
            "[iteration 9301] loss: 95388.3628\n",
            "[iteration 9401] loss: 94328.9189\n",
            "[iteration 9501] loss: 93277.6180\n",
            "[iteration 9601] loss: 92234.8708\n",
            "[iteration 9701] loss: 91200.1058\n",
            "[iteration 9801] loss: 90174.0017\n",
            "[iteration 9901] loss: 89155.7905\n"
          ],
          "name": "stdout"
        },
        {
          "output_type": "execute_result",
          "data": {
            "text/plain": [
              "[<matplotlib.lines.Line2D at 0x7f57d4c3efd0>]"
            ]
          },
          "metadata": {
            "tags": []
          },
          "execution_count": 47
        },
        {
          "output_type": "display_data",
          "data": {
            "image/png": "[encoded data removed]",
            "text/plain": [
              "<Figure size 640x480 with 1 Axes>"
            ]
          },
          "metadata": {
            "tags": [],
            "image/png": {
              "width": 640,
              "height": 480
            }
          }
        }
      ]
    },
    {
      "cell_type": "code",
      "metadata": {
        "id": "jte_Ds1jf-mA",
        "colab_type": "code",
        "colab": {
          "base_uri": "https://localhost:8080/",
          "height": 380
        },
        "outputId": "2b7f3e32-fe9e-470f-9ae1-36e577a344bb"
      },
      "source": [
        "guide.requires_grad_(False)\n",
        "\n",
        "for name, value in pyro.get_param_store().items():\n",
        "    print(name, pyro.param(name))\n",
        "guide.quantiles([0.25, 0.5, 0.75])"
      ],
      "execution_count": null,
      "outputs": [
        {
          "output_type": "stream",
          "text": [
            "AutoLaplaceApproximation.loc Parameter containing:\n",
            "tensor([ 20.6599, 351.9877])\n"
          ],
          "name": "stdout"
        },
        {
          "output_type": "error",
          "ename": "NotImplementedError",
          "evalue": "ignored",
          "traceback": [
            "\u001b[0;31m---------------------------------------------------------------------------\u001b[0m",
            "\u001b[0;31mNotImplementedError\u001b[0m                       Traceback (most recent call last)",
            "\u001b[0;32m<ipython-input-48-cbfcc17eba69>\u001b[0m in \u001b[0;36m<module>\u001b[0;34m()\u001b[0m\n\u001b[1;32m      3\u001b[0m \u001b[0;32mfor\u001b[0m \u001b[0mname\u001b[0m\u001b[0;34m,\u001b[0m \u001b[0mvalue\u001b[0m \u001b[0;32min\u001b[0m \u001b[0mpyro\u001b[0m\u001b[0;34m.\u001b[0m\u001b[0mget_param_store\u001b[0m\u001b[0;34m(\u001b[0m\u001b[0;34m)\u001b[0m\u001b[0;34m.\u001b[0m\u001b[0mitems\u001b[0m\u001b[0;34m(\u001b[0m\u001b[0;34m)\u001b[0m\u001b[0;34m:\u001b[0m\u001b[0;34m\u001b[0m\u001b[0;34m\u001b[0m\u001b[0m\n\u001b[1;32m      4\u001b[0m     \u001b[0mprint\u001b[0m\u001b[0;34m(\u001b[0m\u001b[0mname\u001b[0m\u001b[0;34m,\u001b[0m \u001b[0mpyro\u001b[0m\u001b[0;34m.\u001b[0m\u001b[0mparam\u001b[0m\u001b[0;34m(\u001b[0m\u001b[0mname\u001b[0m\u001b[0;34m)\u001b[0m\u001b[0;34m)\u001b[0m\u001b[0;34m\u001b[0m\u001b[0;34m\u001b[0m\u001b[0m\n\u001b[0;32m----> 5\u001b[0;31m \u001b[0mguide\u001b[0m\u001b[0;34m.\u001b[0m\u001b[0mquantiles\u001b[0m\u001b[0;34m(\u001b[0m\u001b[0;34m[\u001b[0m\u001b[0;36m0.25\u001b[0m\u001b[0;34m,\u001b[0m \u001b[0;36m0.5\u001b[0m\u001b[0;34m,\u001b[0m \u001b[0;36m0.75\u001b[0m\u001b[0;34m]\u001b[0m\u001b[0;34m)\u001b[0m\u001b[0;34m\u001b[0m\u001b[0;34m\u001b[0m\u001b[0m\n\u001b[0m",
            "\u001b[0;32m/usr/local/lib/python3.6/dist-packages/pyro/infer/autoguide/guides.py\u001b[0m in \u001b[0;36mquantiles\u001b[0;34m(self, quantiles, *args, **kwargs)\u001b[0m\n\u001b[1;32m    728\u001b[0m         \u001b[0;34m:\u001b[0m\u001b[0mrtype\u001b[0m\u001b[0;34m:\u001b[0m \u001b[0mdict\u001b[0m\u001b[0;34m\u001b[0m\u001b[0;34m\u001b[0m\u001b[0m\n\u001b[1;32m    729\u001b[0m         \"\"\"\n\u001b[0;32m--> 730\u001b[0;31m         \u001b[0mloc\u001b[0m\u001b[0;34m,\u001b[0m \u001b[0mscale\u001b[0m \u001b[0;34m=\u001b[0m \u001b[0mself\u001b[0m\u001b[0;34m.\u001b[0m\u001b[0m_loc_scale\u001b[0m\u001b[0;34m(\u001b[0m\u001b[0;34m*\u001b[0m\u001b[0margs\u001b[0m\u001b[0;34m,\u001b[0m \u001b[0;34m**\u001b[0m\u001b[0mkwargs\u001b[0m\u001b[0;34m)\u001b[0m\u001b[0;34m\u001b[0m\u001b[0;34m\u001b[0m\u001b[0m\n\u001b[0m\u001b[1;32m    731\u001b[0m         \u001b[0mquantiles\u001b[0m \u001b[0;34m=\u001b[0m \u001b[0mtorch\u001b[0m\u001b[0;34m.\u001b[0m\u001b[0mtensor\u001b[0m\u001b[0;34m(\u001b[0m\u001b[0mquantiles\u001b[0m\u001b[0;34m,\u001b[0m \u001b[0mdtype\u001b[0m\u001b[0;34m=\u001b[0m\u001b[0mloc\u001b[0m\u001b[0;34m.\u001b[0m\u001b[0mdtype\u001b[0m\u001b[0;34m,\u001b[0m \u001b[0mdevice\u001b[0m\u001b[0;34m=\u001b[0m\u001b[0mloc\u001b[0m\u001b[0;34m.\u001b[0m\u001b[0mdevice\u001b[0m\u001b[0;34m)\u001b[0m\u001b[0;34m.\u001b[0m\u001b[0munsqueeze\u001b[0m\u001b[0;34m(\u001b[0m\u001b[0;34m-\u001b[0m\u001b[0;36m1\u001b[0m\u001b[0;34m)\u001b[0m\u001b[0;34m\u001b[0m\u001b[0;34m\u001b[0m\u001b[0m\n\u001b[1;32m    732\u001b[0m         \u001b[0mlatents\u001b[0m \u001b[0;34m=\u001b[0m \u001b[0mdist\u001b[0m\u001b[0;34m.\u001b[0m\u001b[0mNormal\u001b[0m\u001b[0;34m(\u001b[0m\u001b[0mloc\u001b[0m\u001b[0;34m,\u001b[0m \u001b[0mscale\u001b[0m\u001b[0;34m)\u001b[0m\u001b[0;34m.\u001b[0m\u001b[0micdf\u001b[0m\u001b[0;34m(\u001b[0m\u001b[0mquantiles\u001b[0m\u001b[0;34m)\u001b[0m\u001b[0;34m\u001b[0m\u001b[0;34m\u001b[0m\u001b[0m\n",
            "\u001b[0;32m/usr/local/lib/python3.6/dist-packages/pyro/infer/autoguide/guides.py\u001b[0m in \u001b[0;36m_loc_scale\u001b[0;34m(self, *args, **kwargs)\u001b[0m\n\u001b[1;32m    704\u001b[0m             \u001b[0;34m:\u001b[0m\u001b[0mmeth\u001b[0m\u001b[0;34m:\u001b[0m\u001b[0;31m`\u001b[0m\u001b[0mquantiles\u001b[0m\u001b[0;31m`\u001b[0m\u001b[0;34m\u001b[0m\u001b[0;34m\u001b[0m\u001b[0m\n\u001b[1;32m    705\u001b[0m         \"\"\"\n\u001b[0;32m--> 706\u001b[0;31m         \u001b[0;32mraise\u001b[0m \u001b[0mNotImplementedError\u001b[0m\u001b[0;34m\u001b[0m\u001b[0;34m\u001b[0m\u001b[0m\n\u001b[0m\u001b[1;32m    707\u001b[0m \u001b[0;34m\u001b[0m\u001b[0m\n\u001b[1;32m    708\u001b[0m     \u001b[0;32mdef\u001b[0m \u001b[0mmedian\u001b[0m\u001b[0;34m(\u001b[0m\u001b[0mself\u001b[0m\u001b[0;34m,\u001b[0m \u001b[0;34m*\u001b[0m\u001b[0margs\u001b[0m\u001b[0;34m,\u001b[0m \u001b[0;34m**\u001b[0m\u001b[0mkwargs\u001b[0m\u001b[0;34m)\u001b[0m\u001b[0;34m:\u001b[0m\u001b[0;34m\u001b[0m\u001b[0;34m\u001b[0m\u001b[0m\n",
            "\u001b[0;31mNotImplementedError\u001b[0m: "
          ]
        }
      ]
    },
    {
      "cell_type": "code",
      "metadata": {
        "id": "CqV0Wod_jLrk",
        "colab_type": "code",
        "colab": {
          "base_uri": "https://localhost:8080/",
          "height": 884
        },
        "outputId": "554bc734-9a05-4787-f97f-aca9ef72b80d"
      },
      "source": [
        "from pyro.nn import PyroSample\n",
        "from torch import nn\n",
        "from pyro.nn import PyroModule\n",
        "from pyro.infer.autoguide import AutoDiagonalNormal\n",
        "\n",
        "\n",
        "class BayesianRegression(PyroModule):\n",
        "    def __init__(self, in_features, out_features):\n",
        "        super().__init__()\n",
        "        self.linear = PyroModule[nn.Linear](in_features, out_features)\n",
        "        self.linear.weight = PyroSample(dist.Normal(0., 1.).expand([out_features, in_features]).to_event(2))\n",
        "        self.linear.bias = PyroSample(dist.Normal(0., 100.).expand([out_features]).to_event(1))\n",
        "\n",
        "    def forward(self, x, y=None):\n",
        "        sigma = 1.#pyro.sample(\"sigma\", dist.Uniform(0., 1.))\n",
        "        mean = self.linear(x).squeeze(-1)\n",
        "        with pyro.plate(\"data\", x.shape[0]):\n",
        "            obs = pyro.sample(\"obs\", dist.Normal(mean, sigma), obs=y)\n",
        "        return mean\n",
        "\n",
        "brain = tensor(d['brain'], dtype=torch.float).reshape(7,1)\n",
        "mass = tensor(d['mass'], dtype=torch.float).reshape(7,1)\n",
        "\n",
        "model = BayesianRegression(1, 1)\n",
        "guide = AutoDiagonalNormal(model)\n",
        "adam = pyro.optim.Adam({\"lr\": 0.03})\n",
        "svi = SVI(model, guide, adam, loss=Trace_ELBO())\n",
        "pyro.clear_param_store()\n",
        "for j in range(num_iterations):\n",
        "    # calculate the loss and take a gradient step\n",
        "    loss = svi.step(mass, brain)\n",
        "    if j % 100 == 0:\n",
        "        print(\"[iteration %04d] loss: %.4f\" % (j + 1, loss / len(brain)))\n"
      ],
      "execution_count": null,
      "outputs": [
        {
          "output_type": "stream",
          "text": [
            "[iteration 0001] loss: 2256713.6311\n",
            "[iteration 0101] loss: 1611672.6334\n",
            "[iteration 0201] loss: 1152250.9338\n",
            "[iteration 0301] loss: 823457.5973\n",
            "[iteration 0401] loss: 638191.6492\n",
            "[iteration 0501] loss: 517771.8575\n",
            "[iteration 0601] loss: 456630.1136\n",
            "[iteration 0701] loss: 425245.6357\n",
            "[iteration 0801] loss: 409288.2073\n",
            "[iteration 0901] loss: 400613.0964\n",
            "[iteration 1001] loss: 397583.8878\n",
            "[iteration 1101] loss: 396388.7844\n",
            "[iteration 1201] loss: 395542.3466\n",
            "[iteration 1301] loss: 395340.0239\n",
            "[iteration 1401] loss: 395266.2926\n",
            "[iteration 1501] loss: 395132.2250\n",
            "[iteration 1601] loss: 395011.0164\n",
            "[iteration 1701] loss: 394902.2548\n",
            "[iteration 1801] loss: 394754.8238\n",
            "[iteration 1901] loss: 394743.1801\n",
            "[iteration 2001] loss: 394458.3846\n",
            "[iteration 2101] loss: 394352.4667\n",
            "[iteration 2201] loss: 394148.2777\n",
            "[iteration 2301] loss: 393974.8461\n",
            "[iteration 2401] loss: 393814.8561\n",
            "[iteration 2501] loss: 393627.5515\n",
            "[iteration 2601] loss: 393398.9890\n",
            "[iteration 2701] loss: 393228.6202\n",
            "[iteration 2801] loss: 393003.4653\n",
            "[iteration 2901] loss: 392775.4217\n",
            "[iteration 3001] loss: 392533.2755\n",
            "[iteration 3101] loss: 392315.0405\n",
            "[iteration 3201] loss: 392057.7322\n",
            "[iteration 3301] loss: 391763.6521\n",
            "[iteration 3401] loss: 391502.6946\n",
            "[iteration 3501] loss: 391217.5938\n",
            "[iteration 3601] loss: 390923.7363\n",
            "[iteration 3701] loss: 390593.2368\n",
            "[iteration 3801] loss: 390304.2928\n",
            "[iteration 3901] loss: 389932.5006\n",
            "[iteration 4001] loss: 389603.2170\n",
            "[iteration 4101] loss: 389252.4493\n",
            "[iteration 4201] loss: 388866.0080\n",
            "[iteration 4301] loss: 388497.1606\n",
            "[iteration 4401] loss: 388099.9950\n",
            "[iteration 4501] loss: 387701.7419\n",
            "[iteration 4601] loss: 387303.6899\n",
            "[iteration 4701] loss: 386859.7767\n",
            "[iteration 4801] loss: 386422.9781\n",
            "[iteration 4901] loss: 385972.0114\n"
          ],
          "name": "stdout"
        }
      ]
    },
    {
      "cell_type": "code",
      "metadata": {
        "id": "pLaWuEXclcWp",
        "colab_type": "code",
        "colab": {
          "base_uri": "https://localhost:8080/",
          "height": 138
        },
        "outputId": "9496bdd2-aaa5-4a1d-8b21-56aeb301e18e"
      },
      "source": [
        "guide.requires_grad_(False)\n",
        "\n",
        "for name, value in pyro.get_param_store().items():\n",
        "    print(name, pyro.param(name))\n",
        "guide.quantiles([0.25, 0.5, 0.75])\n"
      ],
      "execution_count": null,
      "outputs": [
        {
          "output_type": "stream",
          "text": [
            "AutoDiagonalNormal.loc Parameter containing:\n",
            "tensor([14.0674, 42.6264])\n",
            "AutoDiagonalNormal.scale tensor([0.0232, 0.0266])\n"
          ],
          "name": "stdout"
        },
        {
          "output_type": "execute_result",
          "data": {
            "text/plain": [
              "{'linear.bias': [tensor([42.6085]), tensor([42.6264]), tensor([42.6444])],\n",
              " 'linear.weight': [tensor([[14.0517]]),\n",
              "  tensor([[14.0674]]),\n",
              "  tensor([[14.0830]])]}"
            ]
          },
          "metadata": {
            "tags": []
          },
          "execution_count": 64
        }
      ]
    },
    {
      "cell_type": "code",
      "metadata": {
        "id": "-Fhc-4fYmAgj",
        "colab_type": "code",
        "colab": {
          "base_uri": "https://localhost:8080/",
          "height": 34
        },
        "outputId": "9c833cc6-9641-4895-c57f-57cc3a3bd921"
      },
      "source": [
        "DATA_URL = \"https://d2hg8soec8ck9v.cloudfront.net/datasets/rugged_data.csv\"\n",
        "data = pd.read_csv(DATA_URL, encoding=\"ISO-8859-1\")\n",
        "df = data[[\"cont_africa\", \"rugged\", \"rgdppc_2000\"]]\n",
        "df = df[np.isfinite(df.rgdppc_2000)]\n",
        "df[\"rgdppc_2000\"] = np.log(df[\"rgdppc_2000\"])\n",
        "df[\"cont_africa_x_rugged\"] = df[\"cont_africa\"] * df[\"rugged\"]\n",
        "data = torch.tensor(df[[\"cont_africa\", \"rugged\", \"cont_africa_x_rugged\", \"rgdppc_2000\"]].values,\n",
        "                        dtype=torch.float)\n",
        "x_data, y_data = data[:, :-1], data[:, -1]\n",
        "\n",
        "x_data.shape"
      ],
      "execution_count": null,
      "outputs": [
        {
          "output_type": "execute_result",
          "data": {
            "text/plain": [
              "torch.Size([170, 3])"
            ]
          },
          "metadata": {
            "tags": []
          },
          "execution_count": 33
        }
      ]
    },
    {
      "cell_type": "code",
      "metadata": {
        "id": "WFKQouMNjy7g",
        "colab_type": "code",
        "colab": {
          "base_uri": "https://localhost:8080/",
          "height": 34
        },
        "outputId": "f5d4c5d4-ccd1-4794-f32f-49670438fc2d"
      },
      "source": [
        "mass#.shape"
      ],
      "execution_count": null,
      "outputs": [
        {
          "output_type": "execute_result",
          "data": {
            "text/plain": [
              "tensor([37.0000, 35.5000, 34.5000, 41.5000, 55.5000, 61.0000, 53.5000])"
            ]
          },
          "metadata": {
            "tags": []
          },
          "execution_count": 27
        }
      ]
    },
    {
      "cell_type": "code",
      "metadata": {
        "id": "8jbDxyL5j25t",
        "colab_type": "code",
        "colab": {
          "base_uri": "https://localhost:8080/",
          "height": 34
        },
        "outputId": "fbd06d0f-f892-4ab3-bcf9-c7e3a39667f9"
      },
      "source": [
        "brain"
      ],
      "execution_count": null,
      "outputs": [
        {
          "output_type": "execute_result",
          "data": {
            "text/plain": [
              "tensor([ 438.,  452.,  612.,  521.,  752.,  871., 1350.])"
            ]
          },
          "metadata": {
            "tags": []
          },
          "execution_count": 28
        }
      ]
    },
    {
      "cell_type": "code",
      "metadata": {
        "id": "SjOg0v6BzkSm",
        "colab_type": "code",
        "colab": {
          "base_uri": "https://localhost:8080/",
          "height": 69
        },
        "outputId": "5324ebd3-94b3-41eb-a50f-638606a94cce"
      },
      "source": [
        "print(\"weight = \", pyro.param(\"mean_weight_param\").item())\n",
        "print(\"bias = \", pyro.param(\"mean_bias_param\").item())\n",
        "#print(\"sigma = \", pyro.param(\"sigma\").item())\n",
        "\n",
        "weight = pyro.param(\"mean_weight_param\").item()\n",
        "bias = pyro.param(\"mean_bias_param\").item()\n",
        "#sigma = pyro.param(\"sigma_param\").item()\n",
        "\n",
        "y_pred = weight * mass + bias \n",
        "resid = brain-y_pred\n",
        "1-resid.var()/d['brain'].var()"
      ],
      "execution_count": null,
      "outputs": [
        {
          "output_type": "stream",
          "text": [
            "weight =  10.068291664123535\n",
            "bias =  54.50359344482422\n"
          ],
          "name": "stdout"
        },
        {
          "output_type": "execute_result",
          "data": {
            "text/plain": [
              "tensor(0.3610)"
            ]
          },
          "metadata": {
            "tags": []
          },
          "execution_count": 48
        }
      ]
    },
    {
      "cell_type": "code",
      "metadata": {
        "id": "aXHQSHnj5nSC",
        "colab_type": "code",
        "colab": {
          "base_uri": "https://localhost:8080/",
          "height": 450
        },
        "outputId": "cacff35b-2032-48e9-d881-fc2dd13c4734"
      },
      "source": [
        "import statsmodels.api as sm\n",
        "import statsmodels.formula.api as smf\n",
        "mod = smf.ols(formula='brain ~ mass', data=d)\n",
        "res = mod.fit()\n",
        "\n",
        "print(res.summary())"
      ],
      "execution_count": null,
      "outputs": [
        {
          "output_type": "stream",
          "text": [
            "                            OLS Regression Results                            \n",
            "==============================================================================\n",
            "Dep. Variable:                  brain   R-squared:                       0.490\n",
            "Model:                            OLS   Adj. R-squared:                  0.388\n",
            "Method:                 Least Squares   F-statistic:                     4.807\n",
            "Date:                Sun, 05 Jul 2020   Prob (F-statistic):             0.0798\n",
            "Time:                        16:19:05   Log-Likelihood:                -47.462\n",
            "No. Observations:                   7   AIC:                             98.92\n",
            "Df Residuals:                       5   BIC:                             98.82\n",
            "Df Model:                           1                                         \n",
            "Covariance Type:            nonrobust                                         \n",
            "==============================================================================\n",
            "                 coef    std err          t      P>|t|      [0.025      0.975]\n",
            "------------------------------------------------------------------------------\n",
            "Intercept   -227.6287    439.794     -0.518      0.627   -1358.154     902.897\n",
            "mass          20.6889      9.436      2.192      0.080      -3.568      44.946\n",
            "==============================================================================\n",
            "Omnibus:                          nan   Durbin-Watson:                   1.561\n",
            "Prob(Omnibus):                    nan   Jarque-Bera (JB):                2.372\n",
            "Skew:                           1.399   Prob(JB):                        0.305\n",
            "Kurtosis:                       3.548   Cond. No.                         215.\n",
            "==============================================================================\n",
            "\n",
            "Warnings:\n",
            "[1] Standard Errors assume that the covariance matrix of the errors is correctly specified.\n"
          ],
          "name": "stdout"
        }
      ]
    }
  ]
}